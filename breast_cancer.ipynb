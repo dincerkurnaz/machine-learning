{
  "nbformat": 4,
  "nbformat_minor": 0,
  "metadata": {
    "colab": {
      "name": "breast_cancer.ipynb",
      "version": "0.3.2",
      "provenance": [],
      "collapsed_sections": [],
      "include_colab_link": true
    },
    "kernelspec": {
      "name": "python3",
      "display_name": "Python 3"
    },
    "accelerator": "GPU"
  },
  "cells": [
    {
      "cell_type": "markdown",
      "metadata": {
        "id": "view-in-github",
        "colab_type": "text"
      },
      "source": [
        "<a href=\"https://colab.research.google.com/github/dincerkurnaz/machine-learning/blob/master/breast_cancer.ipynb\" target=\"_parent\"><img src=\"https://colab.research.google.com/assets/colab-badge.svg\" alt=\"Open In Colab\"/></a>"
      ]
    },
    {
      "cell_type": "markdown",
      "metadata": {
        "id": "KBAVhRlpvBEW",
        "colab_type": "text"
      },
      "source": [
        "# Yapay Sinir Ağları ile Meme Kanserinin Teşhisi\n",
        "\n",
        "Dünya Kanser Araştırma Fonu'na göre Meme Kanseri kadınlarda en sık görülen kanser türü. 2018 yılında Meme Kanseri vaka sayısı 2.088.849 ve % 25.4'üne kanser teşhisi konuldu.\n",
        "\n",
        "Bu rakamlar erken aşamada Meme Kanseri tespit etmek için bir çözüm üzerinde çalışmaya ikna edecek kadar dikkat çekmektedir."
      ]
    },
    {
      "cell_type": "markdown",
      "metadata": {
        "id": "ECpgXjrjwFBA",
        "colab_type": "text"
      },
      "source": [
        "* Aşağıdaki siteden 699 Meme kanseri şüphelisi hastanın verisini .data formatında bulabilirsiniz. Sizinle paylaşacağım github sayfamda verinin .csv formatı mevcut olacak.\n",
        "\n",
        "https://archive.ics.uci.edu/ml/datasets/Breast+Cancer+Wisconsin+%28Diagnostic%29"
      ]
    },
    {
      "cell_type": "markdown",
      "metadata": {
        "id": "GTKG2zP4wI44",
        "colab_type": "text"
      },
      "source": [
        "Verimizi data adıyla pandas kütüphanesi kullanarak kaydedelim"
      ]
    },
    {
      "cell_type": "code",
      "metadata": {
        "id": "de3w4pW_tpnT",
        "colab_type": "code",
        "colab": {}
      },
      "source": [
        "import pandas as pd\n",
        "#from google.colab import files\n",
        "#file = files.upload()\n",
        "url = \"https://raw.githubusercontent.com/enespolat25/yapay-sinir-aglari-ile-meme-kanseri-teshisi/master/breastCancer.csv\"\n",
        "data = pd.read_csv(url, header = None)"
      ],
      "execution_count": 0,
      "outputs": []
    },
    {
      "cell_type": "code",
      "metadata": {
        "id": "RtsNnt4XwjwP",
        "colab_type": "code",
        "outputId": "cb1415fe-8562-402d-db5b-8912360c3160",
        "colab": {
          "base_uri": "https://localhost:8080/",
          "height": 509
        }
      },
      "source": [
        "data.head(15)"
      ],
      "execution_count": 60,
      "outputs": [
        {
          "output_type": "execute_result",
          "data": {
            "text/html": [
              "<div>\n",
              "<style scoped>\n",
              "    .dataframe tbody tr th:only-of-type {\n",
              "        vertical-align: middle;\n",
              "    }\n",
              "\n",
              "    .dataframe tbody tr th {\n",
              "        vertical-align: top;\n",
              "    }\n",
              "\n",
              "    .dataframe thead th {\n",
              "        text-align: right;\n",
              "    }\n",
              "</style>\n",
              "<table border=\"1\" class=\"dataframe\">\n",
              "  <thead>\n",
              "    <tr style=\"text-align: right;\">\n",
              "      <th></th>\n",
              "      <th>0</th>\n",
              "      <th>1</th>\n",
              "      <th>2</th>\n",
              "      <th>3</th>\n",
              "      <th>4</th>\n",
              "      <th>5</th>\n",
              "      <th>6</th>\n",
              "      <th>7</th>\n",
              "      <th>8</th>\n",
              "      <th>9</th>\n",
              "      <th>10</th>\n",
              "    </tr>\n",
              "  </thead>\n",
              "  <tbody>\n",
              "    <tr>\n",
              "      <th>0</th>\n",
              "      <td>1000025</td>\n",
              "      <td>5</td>\n",
              "      <td>1</td>\n",
              "      <td>1</td>\n",
              "      <td>1</td>\n",
              "      <td>2</td>\n",
              "      <td>1</td>\n",
              "      <td>3</td>\n",
              "      <td>1</td>\n",
              "      <td>1</td>\n",
              "      <td>2</td>\n",
              "    </tr>\n",
              "    <tr>\n",
              "      <th>1</th>\n",
              "      <td>1002945</td>\n",
              "      <td>5</td>\n",
              "      <td>4</td>\n",
              "      <td>4</td>\n",
              "      <td>5</td>\n",
              "      <td>7</td>\n",
              "      <td>10</td>\n",
              "      <td>3</td>\n",
              "      <td>2</td>\n",
              "      <td>1</td>\n",
              "      <td>2</td>\n",
              "    </tr>\n",
              "    <tr>\n",
              "      <th>2</th>\n",
              "      <td>1015425</td>\n",
              "      <td>3</td>\n",
              "      <td>1</td>\n",
              "      <td>1</td>\n",
              "      <td>1</td>\n",
              "      <td>2</td>\n",
              "      <td>2</td>\n",
              "      <td>3</td>\n",
              "      <td>1</td>\n",
              "      <td>1</td>\n",
              "      <td>2</td>\n",
              "    </tr>\n",
              "    <tr>\n",
              "      <th>3</th>\n",
              "      <td>1016277</td>\n",
              "      <td>6</td>\n",
              "      <td>8</td>\n",
              "      <td>8</td>\n",
              "      <td>1</td>\n",
              "      <td>3</td>\n",
              "      <td>4</td>\n",
              "      <td>3</td>\n",
              "      <td>7</td>\n",
              "      <td>1</td>\n",
              "      <td>2</td>\n",
              "    </tr>\n",
              "    <tr>\n",
              "      <th>4</th>\n",
              "      <td>1017023</td>\n",
              "      <td>4</td>\n",
              "      <td>1</td>\n",
              "      <td>1</td>\n",
              "      <td>3</td>\n",
              "      <td>2</td>\n",
              "      <td>1</td>\n",
              "      <td>3</td>\n",
              "      <td>1</td>\n",
              "      <td>1</td>\n",
              "      <td>2</td>\n",
              "    </tr>\n",
              "    <tr>\n",
              "      <th>5</th>\n",
              "      <td>1017122</td>\n",
              "      <td>8</td>\n",
              "      <td>10</td>\n",
              "      <td>10</td>\n",
              "      <td>8</td>\n",
              "      <td>7</td>\n",
              "      <td>10</td>\n",
              "      <td>9</td>\n",
              "      <td>7</td>\n",
              "      <td>1</td>\n",
              "      <td>4</td>\n",
              "    </tr>\n",
              "    <tr>\n",
              "      <th>6</th>\n",
              "      <td>1018099</td>\n",
              "      <td>1</td>\n",
              "      <td>1</td>\n",
              "      <td>1</td>\n",
              "      <td>1</td>\n",
              "      <td>2</td>\n",
              "      <td>10</td>\n",
              "      <td>3</td>\n",
              "      <td>1</td>\n",
              "      <td>1</td>\n",
              "      <td>2</td>\n",
              "    </tr>\n",
              "    <tr>\n",
              "      <th>7</th>\n",
              "      <td>1018561</td>\n",
              "      <td>2</td>\n",
              "      <td>1</td>\n",
              "      <td>2</td>\n",
              "      <td>1</td>\n",
              "      <td>2</td>\n",
              "      <td>1</td>\n",
              "      <td>3</td>\n",
              "      <td>1</td>\n",
              "      <td>1</td>\n",
              "      <td>2</td>\n",
              "    </tr>\n",
              "    <tr>\n",
              "      <th>8</th>\n",
              "      <td>1033078</td>\n",
              "      <td>2</td>\n",
              "      <td>1</td>\n",
              "      <td>1</td>\n",
              "      <td>1</td>\n",
              "      <td>2</td>\n",
              "      <td>1</td>\n",
              "      <td>1</td>\n",
              "      <td>1</td>\n",
              "      <td>5</td>\n",
              "      <td>2</td>\n",
              "    </tr>\n",
              "    <tr>\n",
              "      <th>9</th>\n",
              "      <td>1033078</td>\n",
              "      <td>4</td>\n",
              "      <td>2</td>\n",
              "      <td>1</td>\n",
              "      <td>1</td>\n",
              "      <td>2</td>\n",
              "      <td>1</td>\n",
              "      <td>2</td>\n",
              "      <td>1</td>\n",
              "      <td>1</td>\n",
              "      <td>2</td>\n",
              "    </tr>\n",
              "    <tr>\n",
              "      <th>10</th>\n",
              "      <td>1035283</td>\n",
              "      <td>1</td>\n",
              "      <td>1</td>\n",
              "      <td>1</td>\n",
              "      <td>1</td>\n",
              "      <td>1</td>\n",
              "      <td>1</td>\n",
              "      <td>3</td>\n",
              "      <td>1</td>\n",
              "      <td>1</td>\n",
              "      <td>2</td>\n",
              "    </tr>\n",
              "    <tr>\n",
              "      <th>11</th>\n",
              "      <td>1036172</td>\n",
              "      <td>2</td>\n",
              "      <td>1</td>\n",
              "      <td>1</td>\n",
              "      <td>1</td>\n",
              "      <td>2</td>\n",
              "      <td>1</td>\n",
              "      <td>2</td>\n",
              "      <td>1</td>\n",
              "      <td>1</td>\n",
              "      <td>2</td>\n",
              "    </tr>\n",
              "    <tr>\n",
              "      <th>12</th>\n",
              "      <td>1041801</td>\n",
              "      <td>5</td>\n",
              "      <td>3</td>\n",
              "      <td>3</td>\n",
              "      <td>3</td>\n",
              "      <td>2</td>\n",
              "      <td>3</td>\n",
              "      <td>4</td>\n",
              "      <td>4</td>\n",
              "      <td>1</td>\n",
              "      <td>4</td>\n",
              "    </tr>\n",
              "    <tr>\n",
              "      <th>13</th>\n",
              "      <td>1043999</td>\n",
              "      <td>1</td>\n",
              "      <td>1</td>\n",
              "      <td>1</td>\n",
              "      <td>1</td>\n",
              "      <td>2</td>\n",
              "      <td>3</td>\n",
              "      <td>3</td>\n",
              "      <td>1</td>\n",
              "      <td>1</td>\n",
              "      <td>2</td>\n",
              "    </tr>\n",
              "    <tr>\n",
              "      <th>14</th>\n",
              "      <td>1044572</td>\n",
              "      <td>8</td>\n",
              "      <td>7</td>\n",
              "      <td>5</td>\n",
              "      <td>10</td>\n",
              "      <td>7</td>\n",
              "      <td>9</td>\n",
              "      <td>5</td>\n",
              "      <td>5</td>\n",
              "      <td>4</td>\n",
              "      <td>4</td>\n",
              "    </tr>\n",
              "  </tbody>\n",
              "</table>\n",
              "</div>"
            ],
            "text/plain": [
              "         0   1   2   3   4   5   6   7   8   9   10\n",
              "0   1000025   5   1   1   1   2   1   3   1   1   2\n",
              "1   1002945   5   4   4   5   7  10   3   2   1   2\n",
              "2   1015425   3   1   1   1   2   2   3   1   1   2\n",
              "3   1016277   6   8   8   1   3   4   3   7   1   2\n",
              "4   1017023   4   1   1   3   2   1   3   1   1   2\n",
              "5   1017122   8  10  10   8   7  10   9   7   1   4\n",
              "6   1018099   1   1   1   1   2  10   3   1   1   2\n",
              "7   1018561   2   1   2   1   2   1   3   1   1   2\n",
              "8   1033078   2   1   1   1   2   1   1   1   5   2\n",
              "9   1033078   4   2   1   1   2   1   2   1   1   2\n",
              "10  1035283   1   1   1   1   1   1   3   1   1   2\n",
              "11  1036172   2   1   1   1   2   1   2   1   1   2\n",
              "12  1041801   5   3   3   3   2   3   4   4   1   4\n",
              "13  1043999   1   1   1   1   2   3   3   1   1   2\n",
              "14  1044572   8   7   5  10   7   9   5   5   4   4"
            ]
          },
          "metadata": {
            "tags": []
          },
          "execution_count": 60
        }
      ]
    },
    {
      "cell_type": "markdown",
      "metadata": {
        "id": "g2cDZ4vKwcYQ",
        "colab_type": "text"
      },
      "source": [
        "Verimize ait sayı-tür bilgileri"
      ]
    },
    {
      "cell_type": "code",
      "metadata": {
        "id": "i6CAJMBKwWwA",
        "colab_type": "code",
        "outputId": "e538eeba-6926-47a7-97a7-990722b6b798",
        "colab": {
          "base_uri": "https://localhost:8080/",
          "height": 295
        }
      },
      "source": [
        "data.info()"
      ],
      "execution_count": 61,
      "outputs": [
        {
          "output_type": "stream",
          "text": [
            "<class 'pandas.core.frame.DataFrame'>\n",
            "RangeIndex: 699 entries, 0 to 698\n",
            "Data columns (total 11 columns):\n",
            "0     699 non-null int64\n",
            "1     699 non-null int64\n",
            "2     699 non-null int64\n",
            "3     699 non-null int64\n",
            "4     699 non-null int64\n",
            "5     699 non-null int64\n",
            "6     699 non-null object\n",
            "7     699 non-null int64\n",
            "8     699 non-null int64\n",
            "9     699 non-null int64\n",
            "10    699 non-null int64\n",
            "dtypes: int64(10), object(1)\n",
            "memory usage: 60.1+ KB\n"
          ],
          "name": "stdout"
        }
      ]
    },
    {
      "cell_type": "markdown",
      "metadata": {
        "id": "6XtRvF3IyIYV",
        "colab_type": "text"
      },
      "source": [
        "6. indexte bazı veriler ? olarak girilmiş önce bunları 0 olarak değiştirelim daha sonra kolonun ortalamasını alarak bu 0 yazdığımız hücrelere ortalamasını yazalım"
      ]
    },
    {
      "cell_type": "code",
      "metadata": {
        "id": "SFZCPgHZt0aB",
        "colab_type": "code",
        "outputId": "f4575cb5-43e9-4a22-a370-784066aaada7",
        "colab": {
          "base_uri": "https://localhost:8080/",
          "height": 202
        }
      },
      "source": [
        "df = pd.DataFrame(data)\n",
        "df[6] = df[6].replace('?',0)\n",
        "df[6] = df[6].astype(int)\n",
        "\n",
        "mean = int(df[6].mean())\n",
        "df[6] = df[6].replace(0,mean)\n",
        "df.head()"
      ],
      "execution_count": 62,
      "outputs": [
        {
          "output_type": "execute_result",
          "data": {
            "text/html": [
              "<div>\n",
              "<style scoped>\n",
              "    .dataframe tbody tr th:only-of-type {\n",
              "        vertical-align: middle;\n",
              "    }\n",
              "\n",
              "    .dataframe tbody tr th {\n",
              "        vertical-align: top;\n",
              "    }\n",
              "\n",
              "    .dataframe thead th {\n",
              "        text-align: right;\n",
              "    }\n",
              "</style>\n",
              "<table border=\"1\" class=\"dataframe\">\n",
              "  <thead>\n",
              "    <tr style=\"text-align: right;\">\n",
              "      <th></th>\n",
              "      <th>0</th>\n",
              "      <th>1</th>\n",
              "      <th>2</th>\n",
              "      <th>3</th>\n",
              "      <th>4</th>\n",
              "      <th>5</th>\n",
              "      <th>6</th>\n",
              "      <th>7</th>\n",
              "      <th>8</th>\n",
              "      <th>9</th>\n",
              "      <th>10</th>\n",
              "    </tr>\n",
              "  </thead>\n",
              "  <tbody>\n",
              "    <tr>\n",
              "      <th>0</th>\n",
              "      <td>1000025</td>\n",
              "      <td>5</td>\n",
              "      <td>1</td>\n",
              "      <td>1</td>\n",
              "      <td>1</td>\n",
              "      <td>2</td>\n",
              "      <td>1</td>\n",
              "      <td>3</td>\n",
              "      <td>1</td>\n",
              "      <td>1</td>\n",
              "      <td>2</td>\n",
              "    </tr>\n",
              "    <tr>\n",
              "      <th>1</th>\n",
              "      <td>1002945</td>\n",
              "      <td>5</td>\n",
              "      <td>4</td>\n",
              "      <td>4</td>\n",
              "      <td>5</td>\n",
              "      <td>7</td>\n",
              "      <td>10</td>\n",
              "      <td>3</td>\n",
              "      <td>2</td>\n",
              "      <td>1</td>\n",
              "      <td>2</td>\n",
              "    </tr>\n",
              "    <tr>\n",
              "      <th>2</th>\n",
              "      <td>1015425</td>\n",
              "      <td>3</td>\n",
              "      <td>1</td>\n",
              "      <td>1</td>\n",
              "      <td>1</td>\n",
              "      <td>2</td>\n",
              "      <td>2</td>\n",
              "      <td>3</td>\n",
              "      <td>1</td>\n",
              "      <td>1</td>\n",
              "      <td>2</td>\n",
              "    </tr>\n",
              "    <tr>\n",
              "      <th>3</th>\n",
              "      <td>1016277</td>\n",
              "      <td>6</td>\n",
              "      <td>8</td>\n",
              "      <td>8</td>\n",
              "      <td>1</td>\n",
              "      <td>3</td>\n",
              "      <td>4</td>\n",
              "      <td>3</td>\n",
              "      <td>7</td>\n",
              "      <td>1</td>\n",
              "      <td>2</td>\n",
              "    </tr>\n",
              "    <tr>\n",
              "      <th>4</th>\n",
              "      <td>1017023</td>\n",
              "      <td>4</td>\n",
              "      <td>1</td>\n",
              "      <td>1</td>\n",
              "      <td>3</td>\n",
              "      <td>2</td>\n",
              "      <td>1</td>\n",
              "      <td>3</td>\n",
              "      <td>1</td>\n",
              "      <td>1</td>\n",
              "      <td>2</td>\n",
              "    </tr>\n",
              "  </tbody>\n",
              "</table>\n",
              "</div>"
            ],
            "text/plain": [
              "        0   1   2   3   4   5   6   7   8   9   10\n",
              "0  1000025   5   1   1   1   2   1   3   1   1   2\n",
              "1  1002945   5   4   4   5   7  10   3   2   1   2\n",
              "2  1015425   3   1   1   1   2   2   3   1   1   2\n",
              "3  1016277   6   8   8   1   3   4   3   7   1   2\n",
              "4  1017023   4   1   1   3   2   1   3   1   1   2"
            ]
          },
          "metadata": {
            "tags": []
          },
          "execution_count": 62
        }
      ]
    },
    {
      "cell_type": "markdown",
      "metadata": {
        "id": "6blOk7vTyh9B",
        "colab_type": "text"
      },
      "source": [
        "6.indexte hangi değerden kaç tane var görelim"
      ]
    },
    {
      "cell_type": "code",
      "metadata": {
        "id": "X9DDM1O9yGG8",
        "colab_type": "code",
        "outputId": "bbb40f3a-93d3-4e9f-d5a5-82c8f2533cf8",
        "colab": {
          "base_uri": "https://localhost:8080/",
          "height": 208
        }
      },
      "source": [
        "df = pd.DataFrame(data)\n",
        "df[6].value_counts()"
      ],
      "execution_count": 63,
      "outputs": [
        {
          "output_type": "execute_result",
          "data": {
            "text/plain": [
              "1     402\n",
              "10    132\n",
              "3      44\n",
              "5      30\n",
              "2      30\n",
              "8      21\n",
              "4      19\n",
              "9       9\n",
              "7       8\n",
              "6       4\n",
              "Name: 6, dtype: int64"
            ]
          },
          "metadata": {
            "tags": []
          },
          "execution_count": 63
        }
      ]
    },
    {
      "cell_type": "markdown",
      "metadata": {
        "id": "_Gn1hJdAx-qG",
        "colab_type": "text"
      },
      "source": [
        "Veri setimiz 699 hastaya ait tümöre ait bilgilerini içeriyor.\n",
        "İlk Kolon hastalara ait ID bilgisi\n",
        "\n",
        "Diğer kolonlardan 1-9 arası tüm kolonlar tümöre ait değerler. Bu değerler 1-10 arası. 1'e ne kadar yakınsa iyi huylu, 10 a ne kadar yakınsa kötü huylu demek. 10 nolu kolon ise hastanın tümörünün sonuç olarak iyi huylu mu (2 değeri) yoksa kötü huylu mu(4 değeri) olduğunun bilgisini tutuyor. Biz 1-9 kolonlarındaki değerlere bakarak 10 nolu kolondaki sonuç bilgisini yapay sinir ağı ile tahmin etmeye çalışacağız."
      ]
    },
    {
      "cell_type": "markdown",
      "metadata": {
        "id": "vj4u0Fb3ytm5",
        "colab_type": "text"
      },
      "source": [
        "10 nolu kolonda 2 olan değerleri 0, 4 olan değerleri 1 olarak değiştirelim"
      ]
    },
    {
      "cell_type": "code",
      "metadata": {
        "id": "juUOS15dt-as",
        "colab_type": "code",
        "outputId": "da7387e2-14ae-4a1f-9132-7b5b521dafde",
        "colab": {
          "base_uri": "https://localhost:8080/",
          "height": 355
        }
      },
      "source": [
        "df[10] = df[10].replace(2,0).replace(4,1)\n",
        "df.head(10)"
      ],
      "execution_count": 64,
      "outputs": [
        {
          "output_type": "execute_result",
          "data": {
            "text/html": [
              "<div>\n",
              "<style scoped>\n",
              "    .dataframe tbody tr th:only-of-type {\n",
              "        vertical-align: middle;\n",
              "    }\n",
              "\n",
              "    .dataframe tbody tr th {\n",
              "        vertical-align: top;\n",
              "    }\n",
              "\n",
              "    .dataframe thead th {\n",
              "        text-align: right;\n",
              "    }\n",
              "</style>\n",
              "<table border=\"1\" class=\"dataframe\">\n",
              "  <thead>\n",
              "    <tr style=\"text-align: right;\">\n",
              "      <th></th>\n",
              "      <th>0</th>\n",
              "      <th>1</th>\n",
              "      <th>2</th>\n",
              "      <th>3</th>\n",
              "      <th>4</th>\n",
              "      <th>5</th>\n",
              "      <th>6</th>\n",
              "      <th>7</th>\n",
              "      <th>8</th>\n",
              "      <th>9</th>\n",
              "      <th>10</th>\n",
              "    </tr>\n",
              "  </thead>\n",
              "  <tbody>\n",
              "    <tr>\n",
              "      <th>0</th>\n",
              "      <td>1000025</td>\n",
              "      <td>5</td>\n",
              "      <td>1</td>\n",
              "      <td>1</td>\n",
              "      <td>1</td>\n",
              "      <td>2</td>\n",
              "      <td>1</td>\n",
              "      <td>3</td>\n",
              "      <td>1</td>\n",
              "      <td>1</td>\n",
              "      <td>0</td>\n",
              "    </tr>\n",
              "    <tr>\n",
              "      <th>1</th>\n",
              "      <td>1002945</td>\n",
              "      <td>5</td>\n",
              "      <td>4</td>\n",
              "      <td>4</td>\n",
              "      <td>5</td>\n",
              "      <td>7</td>\n",
              "      <td>10</td>\n",
              "      <td>3</td>\n",
              "      <td>2</td>\n",
              "      <td>1</td>\n",
              "      <td>0</td>\n",
              "    </tr>\n",
              "    <tr>\n",
              "      <th>2</th>\n",
              "      <td>1015425</td>\n",
              "      <td>3</td>\n",
              "      <td>1</td>\n",
              "      <td>1</td>\n",
              "      <td>1</td>\n",
              "      <td>2</td>\n",
              "      <td>2</td>\n",
              "      <td>3</td>\n",
              "      <td>1</td>\n",
              "      <td>1</td>\n",
              "      <td>0</td>\n",
              "    </tr>\n",
              "    <tr>\n",
              "      <th>3</th>\n",
              "      <td>1016277</td>\n",
              "      <td>6</td>\n",
              "      <td>8</td>\n",
              "      <td>8</td>\n",
              "      <td>1</td>\n",
              "      <td>3</td>\n",
              "      <td>4</td>\n",
              "      <td>3</td>\n",
              "      <td>7</td>\n",
              "      <td>1</td>\n",
              "      <td>0</td>\n",
              "    </tr>\n",
              "    <tr>\n",
              "      <th>4</th>\n",
              "      <td>1017023</td>\n",
              "      <td>4</td>\n",
              "      <td>1</td>\n",
              "      <td>1</td>\n",
              "      <td>3</td>\n",
              "      <td>2</td>\n",
              "      <td>1</td>\n",
              "      <td>3</td>\n",
              "      <td>1</td>\n",
              "      <td>1</td>\n",
              "      <td>0</td>\n",
              "    </tr>\n",
              "    <tr>\n",
              "      <th>5</th>\n",
              "      <td>1017122</td>\n",
              "      <td>8</td>\n",
              "      <td>10</td>\n",
              "      <td>10</td>\n",
              "      <td>8</td>\n",
              "      <td>7</td>\n",
              "      <td>10</td>\n",
              "      <td>9</td>\n",
              "      <td>7</td>\n",
              "      <td>1</td>\n",
              "      <td>1</td>\n",
              "    </tr>\n",
              "    <tr>\n",
              "      <th>6</th>\n",
              "      <td>1018099</td>\n",
              "      <td>1</td>\n",
              "      <td>1</td>\n",
              "      <td>1</td>\n",
              "      <td>1</td>\n",
              "      <td>2</td>\n",
              "      <td>10</td>\n",
              "      <td>3</td>\n",
              "      <td>1</td>\n",
              "      <td>1</td>\n",
              "      <td>0</td>\n",
              "    </tr>\n",
              "    <tr>\n",
              "      <th>7</th>\n",
              "      <td>1018561</td>\n",
              "      <td>2</td>\n",
              "      <td>1</td>\n",
              "      <td>2</td>\n",
              "      <td>1</td>\n",
              "      <td>2</td>\n",
              "      <td>1</td>\n",
              "      <td>3</td>\n",
              "      <td>1</td>\n",
              "      <td>1</td>\n",
              "      <td>0</td>\n",
              "    </tr>\n",
              "    <tr>\n",
              "      <th>8</th>\n",
              "      <td>1033078</td>\n",
              "      <td>2</td>\n",
              "      <td>1</td>\n",
              "      <td>1</td>\n",
              "      <td>1</td>\n",
              "      <td>2</td>\n",
              "      <td>1</td>\n",
              "      <td>1</td>\n",
              "      <td>1</td>\n",
              "      <td>5</td>\n",
              "      <td>0</td>\n",
              "    </tr>\n",
              "    <tr>\n",
              "      <th>9</th>\n",
              "      <td>1033078</td>\n",
              "      <td>4</td>\n",
              "      <td>2</td>\n",
              "      <td>1</td>\n",
              "      <td>1</td>\n",
              "      <td>2</td>\n",
              "      <td>1</td>\n",
              "      <td>2</td>\n",
              "      <td>1</td>\n",
              "      <td>1</td>\n",
              "      <td>0</td>\n",
              "    </tr>\n",
              "  </tbody>\n",
              "</table>\n",
              "</div>"
            ],
            "text/plain": [
              "        0   1   2   3   4   5   6   7   8   9   10\n",
              "0  1000025   5   1   1   1   2   1   3   1   1   0\n",
              "1  1002945   5   4   4   5   7  10   3   2   1   0\n",
              "2  1015425   3   1   1   1   2   2   3   1   1   0\n",
              "3  1016277   6   8   8   1   3   4   3   7   1   0\n",
              "4  1017023   4   1   1   3   2   1   3   1   1   0\n",
              "5  1017122   8  10  10   8   7  10   9   7   1   1\n",
              "6  1018099   1   1   1   1   2  10   3   1   1   0\n",
              "7  1018561   2   1   2   1   2   1   3   1   1   0\n",
              "8  1033078   2   1   1   1   2   1   1   1   5   0\n",
              "9  1033078   4   2   1   1   2   1   2   1   1   0"
            ]
          },
          "metadata": {
            "tags": []
          },
          "execution_count": 64
        }
      ]
    },
    {
      "cell_type": "markdown",
      "metadata": {
        "id": "76wI-2QGy22C",
        "colab_type": "text"
      },
      "source": [
        "Verimizi hazırladığımıza göre artık yapay sinir ağımızı oluşturabiliriz.Önce X değişkeni olarak 1-9 arası kolonlar Y değişkeni olarak 10. kolonu seçelim Verimizi %20 test %80 train olarak bölelim"
      ]
    },
    {
      "cell_type": "code",
      "metadata": {
        "id": "PMKucjC7uHWp",
        "colab_type": "code",
        "colab": {}
      },
      "source": [
        "from sklearn.model_selection import train_test_split\n",
        "\n",
        "X = df.iloc[:, 1:10]\n",
        "Y = df.iloc[:, 10]\n",
        "\n",
        "X_train, X_test, Y_train, Y_test = train_test_split(X, Y, test_size = 0.2, random_state = 0)"
      ],
      "execution_count": 0,
      "outputs": []
    },
    {
      "cell_type": "markdown",
      "metadata": {
        "id": "9CbHl0eEzPaw",
        "colab_type": "text"
      },
      "source": [
        "X değişkenlerimizi normalize edelim"
      ]
    },
    {
      "cell_type": "code",
      "metadata": {
        "id": "vwYCZ6LYuZRa",
        "colab_type": "code",
        "colab": {}
      },
      "source": [
        "from sklearn.preprocessing import StandardScaler\n",
        "scaler = StandardScaler()\n",
        "X_train = scaler.fit_transform(X_train)\n",
        "X_test = scaler.transform(X_test)"
      ],
      "execution_count": 0,
      "outputs": []
    },
    {
      "cell_type": "markdown",
      "metadata": {
        "id": "1DgC8VeizTWe",
        "colab_type": "text"
      },
      "source": [
        "Keras ile sinir ağımızı oluşturalım"
      ]
    },
    {
      "cell_type": "code",
      "metadata": {
        "id": "UhN36AKoucM9",
        "colab_type": "code",
        "colab": {}
      },
      "source": [
        "from keras.models import Sequential\n",
        "from keras.layers import Dense"
      ],
      "execution_count": 0,
      "outputs": []
    },
    {
      "cell_type": "code",
      "metadata": {
        "id": "qxMBLu36uiwp",
        "colab_type": "code",
        "colab": {}
      },
      "source": [
        "classifier = Sequential()"
      ],
      "execution_count": 0,
      "outputs": []
    },
    {
      "cell_type": "markdown",
      "metadata": {
        "id": "N_dGBGmBzZJf",
        "colab_type": "text"
      },
      "source": [
        "input layer ve hidden layerlerimizi oluşturalım. çIKIŞ 1-0 değerleri istediğimizden aktivasyon fonksiyonumuz sigmoid olacak"
      ]
    },
    {
      "cell_type": "code",
      "metadata": {
        "id": "cWWrWRZkulhE",
        "colab_type": "code",
        "colab": {}
      },
      "source": [
        "classifier.add(Dense(units = 5, activation = 'relu', input_dim=9))\n",
        "classifier.add(Dense(units = 3, activation = 'relu'))\n",
        "classifier.add(Dense(units = 1, activation = 'sigmoid'))"
      ],
      "execution_count": 0,
      "outputs": []
    },
    {
      "cell_type": "markdown",
      "metadata": {
        "id": "tCG-sS2NznWX",
        "colab_type": "text"
      },
      "source": [
        "Yapay Sinir Ağımızı adam optimizer, mean_squared_error ve accuracy metriği ile compile edelim"
      ]
    },
    {
      "cell_type": "code",
      "metadata": {
        "id": "Qp3rwM-2uong",
        "colab_type": "code",
        "colab": {}
      },
      "source": [
        "classifier.compile(optimizer='adam', loss='mean_squared_error', metrics=['accuracy'])"
      ],
      "execution_count": 0,
      "outputs": []
    },
    {
      "cell_type": "markdown",
      "metadata": {
        "id": "9DN_Jw_tz2cl",
        "colab_type": "text"
      },
      "source": [
        "100 epoch ve 10 batch_size ile eğitimimize başlayalım"
      ]
    },
    {
      "cell_type": "code",
      "metadata": {
        "id": "9sVI31stusbG",
        "colab_type": "code",
        "outputId": "47a2c3c7-9eb1-4bb4-b9b3-ffef41835673",
        "colab": {
          "base_uri": "https://localhost:8080/",
          "height": 3501
        }
      },
      "source": [
        "classifier.fit(X_train, Y_train, batch_size = 10, epochs = 100)"
      ],
      "execution_count": 71,
      "outputs": [
        {
          "output_type": "stream",
          "text": [
            "Epoch 1/100\n",
            "559/559 [==============================] - 0s 605us/step - loss: 0.2295 - acc: 0.5474\n",
            "Epoch 2/100\n",
            "559/559 [==============================] - 0s 298us/step - loss: 0.1829 - acc: 0.8587\n",
            "Epoch 3/100\n",
            "559/559 [==============================] - 0s 285us/step - loss: 0.1616 - acc: 0.9445\n",
            "Epoch 4/100\n",
            "559/559 [==============================] - 0s 296us/step - loss: 0.1455 - acc: 0.9553\n",
            "Epoch 5/100\n",
            "559/559 [==============================] - 0s 277us/step - loss: 0.1304 - acc: 0.9660\n",
            "Epoch 6/100\n",
            "559/559 [==============================] - 0s 276us/step - loss: 0.1148 - acc: 0.9642\n",
            "Epoch 7/100\n",
            "559/559 [==============================] - 0s 299us/step - loss: 0.0966 - acc: 0.9660\n",
            "Epoch 8/100\n",
            "559/559 [==============================] - 0s 277us/step - loss: 0.0748 - acc: 0.9678\n",
            "Epoch 9/100\n",
            "559/559 [==============================] - 0s 282us/step - loss: 0.0543 - acc: 0.9642\n",
            "Epoch 10/100\n",
            "559/559 [==============================] - 0s 298us/step - loss: 0.0405 - acc: 0.9678\n",
            "Epoch 11/100\n",
            "559/559 [==============================] - 0s 279us/step - loss: 0.0334 - acc: 0.9678\n",
            "Epoch 12/100\n",
            "559/559 [==============================] - 0s 284us/step - loss: 0.0293 - acc: 0.9696\n",
            "Epoch 13/100\n",
            "559/559 [==============================] - 0s 322us/step - loss: 0.0271 - acc: 0.9714\n",
            "Epoch 14/100\n",
            "559/559 [==============================] - 0s 300us/step - loss: 0.0256 - acc: 0.9714\n",
            "Epoch 15/100\n",
            "559/559 [==============================] - 0s 286us/step - loss: 0.0246 - acc: 0.9714\n",
            "Epoch 16/100\n",
            "559/559 [==============================] - 0s 281us/step - loss: 0.0238 - acc: 0.9714\n",
            "Epoch 17/100\n",
            "559/559 [==============================] - 0s 298us/step - loss: 0.0232 - acc: 0.9714\n",
            "Epoch 18/100\n",
            "559/559 [==============================] - 0s 282us/step - loss: 0.0226 - acc: 0.9732\n",
            "Epoch 19/100\n",
            "559/559 [==============================] - 0s 313us/step - loss: 0.0223 - acc: 0.9732\n",
            "Epoch 20/100\n",
            "559/559 [==============================] - 0s 322us/step - loss: 0.0219 - acc: 0.9732\n",
            "Epoch 21/100\n",
            "559/559 [==============================] - 0s 285us/step - loss: 0.0216 - acc: 0.9732\n",
            "Epoch 22/100\n",
            "559/559 [==============================] - 0s 283us/step - loss: 0.0214 - acc: 0.9732\n",
            "Epoch 23/100\n",
            "559/559 [==============================] - 0s 284us/step - loss: 0.0211 - acc: 0.9732\n",
            "Epoch 24/100\n",
            "559/559 [==============================] - 0s 283us/step - loss: 0.0209 - acc: 0.9732\n",
            "Epoch 25/100\n",
            "559/559 [==============================] - 0s 295us/step - loss: 0.0207 - acc: 0.9732\n",
            "Epoch 26/100\n",
            "559/559 [==============================] - 0s 310us/step - loss: 0.0205 - acc: 0.9767\n",
            "Epoch 27/100\n",
            "559/559 [==============================] - 0s 281us/step - loss: 0.0203 - acc: 0.9767\n",
            "Epoch 28/100\n",
            "559/559 [==============================] - 0s 279us/step - loss: 0.0201 - acc: 0.9785\n",
            "Epoch 29/100\n",
            "559/559 [==============================] - 0s 286us/step - loss: 0.0200 - acc: 0.9767\n",
            "Epoch 30/100\n",
            "559/559 [==============================] - 0s 286us/step - loss: 0.0199 - acc: 0.9767\n",
            "Epoch 31/100\n",
            "559/559 [==============================] - 0s 284us/step - loss: 0.0198 - acc: 0.9767\n",
            "Epoch 32/100\n",
            "559/559 [==============================] - 0s 311us/step - loss: 0.0197 - acc: 0.9767\n",
            "Epoch 33/100\n",
            "559/559 [==============================] - 0s 284us/step - loss: 0.0196 - acc: 0.9785\n",
            "Epoch 34/100\n",
            "559/559 [==============================] - 0s 278us/step - loss: 0.0195 - acc: 0.9767\n",
            "Epoch 35/100\n",
            "559/559 [==============================] - 0s 285us/step - loss: 0.0194 - acc: 0.9785\n",
            "Epoch 36/100\n",
            "559/559 [==============================] - 0s 280us/step - loss: 0.0194 - acc: 0.9785\n",
            "Epoch 37/100\n",
            "559/559 [==============================] - 0s 303us/step - loss: 0.0192 - acc: 0.9785\n",
            "Epoch 38/100\n",
            "559/559 [==============================] - 0s 301us/step - loss: 0.0192 - acc: 0.9785\n",
            "Epoch 39/100\n",
            "559/559 [==============================] - 0s 284us/step - loss: 0.0191 - acc: 0.9785\n",
            "Epoch 40/100\n",
            "559/559 [==============================] - 0s 281us/step - loss: 0.0190 - acc: 0.9785\n",
            "Epoch 41/100\n",
            "559/559 [==============================] - 0s 282us/step - loss: 0.0189 - acc: 0.9785\n",
            "Epoch 42/100\n",
            "559/559 [==============================] - 0s 281us/step - loss: 0.0189 - acc: 0.9785\n",
            "Epoch 43/100\n",
            "559/559 [==============================] - 0s 289us/step - loss: 0.0188 - acc: 0.9785\n",
            "Epoch 44/100\n",
            "559/559 [==============================] - 0s 283us/step - loss: 0.0186 - acc: 0.9785\n",
            "Epoch 45/100\n",
            "559/559 [==============================] - 0s 305us/step - loss: 0.0186 - acc: 0.9785\n",
            "Epoch 46/100\n",
            "559/559 [==============================] - 0s 295us/step - loss: 0.0185 - acc: 0.9785\n",
            "Epoch 47/100\n",
            "559/559 [==============================] - 0s 281us/step - loss: 0.0185 - acc: 0.9785\n",
            "Epoch 48/100\n",
            "559/559 [==============================] - 0s 281us/step - loss: 0.0184 - acc: 0.9785\n",
            "Epoch 49/100\n",
            "559/559 [==============================] - 0s 281us/step - loss: 0.0183 - acc: 0.9803\n",
            "Epoch 50/100\n",
            "559/559 [==============================] - 0s 283us/step - loss: 0.0182 - acc: 0.9803\n",
            "Epoch 51/100\n",
            "559/559 [==============================] - 0s 300us/step - loss: 0.0181 - acc: 0.9803\n",
            "Epoch 52/100\n",
            "559/559 [==============================] - 0s 283us/step - loss: 0.0181 - acc: 0.9803\n",
            "Epoch 53/100\n",
            "559/559 [==============================] - 0s 279us/step - loss: 0.0181 - acc: 0.9803\n",
            "Epoch 54/100\n",
            "559/559 [==============================] - 0s 281us/step - loss: 0.0180 - acc: 0.9821\n",
            "Epoch 55/100\n",
            "559/559 [==============================] - 0s 279us/step - loss: 0.0179 - acc: 0.9803\n",
            "Epoch 56/100\n",
            "559/559 [==============================] - 0s 284us/step - loss: 0.0179 - acc: 0.9803\n",
            "Epoch 57/100\n",
            "559/559 [==============================] - 0s 304us/step - loss: 0.0178 - acc: 0.9803\n",
            "Epoch 58/100\n",
            "559/559 [==============================] - 0s 281us/step - loss: 0.0177 - acc: 0.9803\n",
            "Epoch 59/100\n",
            "559/559 [==============================] - 0s 280us/step - loss: 0.0178 - acc: 0.9803\n",
            "Epoch 60/100\n",
            "559/559 [==============================] - 0s 286us/step - loss: 0.0176 - acc: 0.9803\n",
            "Epoch 61/100\n",
            "559/559 [==============================] - 0s 284us/step - loss: 0.0176 - acc: 0.9803\n",
            "Epoch 62/100\n",
            "559/559 [==============================] - 0s 280us/step - loss: 0.0175 - acc: 0.9803\n",
            "Epoch 63/100\n",
            "559/559 [==============================] - 0s 280us/step - loss: 0.0175 - acc: 0.9803\n",
            "Epoch 64/100\n",
            "559/559 [==============================] - 0s 307us/step - loss: 0.0173 - acc: 0.9803\n",
            "Epoch 65/100\n",
            "559/559 [==============================] - 0s 276us/step - loss: 0.0174 - acc: 0.9803\n",
            "Epoch 66/100\n",
            "559/559 [==============================] - 0s 279us/step - loss: 0.0172 - acc: 0.9803\n",
            "Epoch 67/100\n",
            "559/559 [==============================] - 0s 277us/step - loss: 0.0171 - acc: 0.9803\n",
            "Epoch 68/100\n",
            "559/559 [==============================] - 0s 282us/step - loss: 0.0172 - acc: 0.9803\n",
            "Epoch 69/100\n",
            "559/559 [==============================] - 0s 289us/step - loss: 0.0171 - acc: 0.9821\n",
            "Epoch 70/100\n",
            "559/559 [==============================] - 0s 303us/step - loss: 0.0169 - acc: 0.9803\n",
            "Epoch 71/100\n",
            "559/559 [==============================] - 0s 281us/step - loss: 0.0169 - acc: 0.9803\n",
            "Epoch 72/100\n",
            "559/559 [==============================] - 0s 278us/step - loss: 0.0168 - acc: 0.9803\n",
            "Epoch 73/100\n",
            "559/559 [==============================] - 0s 283us/step - loss: 0.0168 - acc: 0.9803\n",
            "Epoch 74/100\n",
            "559/559 [==============================] - 0s 275us/step - loss: 0.0168 - acc: 0.9803\n",
            "Epoch 75/100\n",
            "559/559 [==============================] - 0s 298us/step - loss: 0.0166 - acc: 0.9803\n",
            "Epoch 76/100\n",
            "559/559 [==============================] - 0s 289us/step - loss: 0.0166 - acc: 0.9803\n",
            "Epoch 77/100\n",
            "559/559 [==============================] - 0s 285us/step - loss: 0.0165 - acc: 0.9803\n",
            "Epoch 78/100\n",
            "559/559 [==============================] - 0s 278us/step - loss: 0.0165 - acc: 0.9803\n",
            "Epoch 79/100\n",
            "559/559 [==============================] - 0s 278us/step - loss: 0.0164 - acc: 0.9803\n",
            "Epoch 80/100\n",
            "559/559 [==============================] - 0s 293us/step - loss: 0.0163 - acc: 0.9803\n",
            "Epoch 81/100\n",
            "559/559 [==============================] - 0s 280us/step - loss: 0.0162 - acc: 0.9803\n",
            "Epoch 82/100\n",
            "559/559 [==============================] - 0s 281us/step - loss: 0.0161 - acc: 0.9803\n",
            "Epoch 83/100\n",
            "559/559 [==============================] - 0s 298us/step - loss: 0.0160 - acc: 0.9803\n",
            "Epoch 84/100\n",
            "559/559 [==============================] - 0s 280us/step - loss: 0.0160 - acc: 0.9803\n",
            "Epoch 85/100\n",
            "559/559 [==============================] - 0s 324us/step - loss: 0.0161 - acc: 0.9821\n",
            "Epoch 86/100\n",
            "559/559 [==============================] - 0s 277us/step - loss: 0.0158 - acc: 0.9803\n",
            "Epoch 87/100\n",
            "559/559 [==============================] - 0s 284us/step - loss: 0.0158 - acc: 0.9803\n",
            "Epoch 88/100\n",
            "559/559 [==============================] - 0s 278us/step - loss: 0.0157 - acc: 0.9821\n",
            "Epoch 89/100\n",
            "559/559 [==============================] - 0s 304us/step - loss: 0.0157 - acc: 0.9803\n",
            "Epoch 90/100\n",
            "559/559 [==============================] - 0s 282us/step - loss: 0.0156 - acc: 0.9803\n",
            "Epoch 91/100\n",
            "559/559 [==============================] - 0s 286us/step - loss: 0.0155 - acc: 0.9803\n",
            "Epoch 92/100\n",
            "559/559 [==============================] - 0s 279us/step - loss: 0.0155 - acc: 0.9803\n",
            "Epoch 93/100\n",
            "559/559 [==============================] - 0s 285us/step - loss: 0.0154 - acc: 0.9803\n",
            "Epoch 94/100\n",
            "559/559 [==============================] - 0s 275us/step - loss: 0.0153 - acc: 0.9803\n",
            "Epoch 95/100\n",
            "559/559 [==============================] - 0s 284us/step - loss: 0.0153 - acc: 0.9821\n",
            "Epoch 96/100\n",
            "559/559 [==============================] - 0s 293us/step - loss: 0.0153 - acc: 0.9821\n",
            "Epoch 97/100\n",
            "559/559 [==============================] - 0s 276us/step - loss: 0.0151 - acc: 0.9803\n",
            "Epoch 98/100\n",
            "559/559 [==============================] - 0s 283us/step - loss: 0.0151 - acc: 0.9821\n",
            "Epoch 99/100\n",
            "559/559 [==============================] - 0s 278us/step - loss: 0.0150 - acc: 0.9821\n",
            "Epoch 100/100\n",
            "559/559 [==============================] - 0s 286us/step - loss: 0.0150 - acc: 0.9821\n"
          ],
          "name": "stdout"
        },
        {
          "output_type": "execute_result",
          "data": {
            "text/plain": [
              "<keras.callbacks.History at 0x7f508a6de780>"
            ]
          },
          "metadata": {
            "tags": []
          },
          "execution_count": 71
        }
      ]
    },
    {
      "cell_type": "markdown",
      "metadata": {
        "id": "Xe9nuUaM0SPM",
        "colab_type": "text"
      },
      "source": [
        "Test olarak ayırdığımız X değerlerini tahmin edelim"
      ]
    },
    {
      "cell_type": "code",
      "metadata": {
        "id": "8UMYQhLhuvaE",
        "colab_type": "code",
        "outputId": "df42b91c-f5a6-468c-8983-72a8bf9759e9",
        "colab": {
          "base_uri": "https://localhost:8080/",
          "height": 55
        }
      },
      "source": [
        "Y_pred = classifier.predict(X_test)\n",
        "Y_pred = [ 1 if y>=0.5 else 0 for y in Y_pred]\n",
        "print(Y_pred)"
      ],
      "execution_count": 72,
      "outputs": [
        {
          "output_type": "stream",
          "text": [
            "[0, 0, 1, 0, 1, 0, 1, 0, 1, 1, 0, 0, 1, 1, 1, 0, 0, 1, 1, 0, 1, 1, 0, 0, 0, 1, 0, 0, 1, 1, 0, 0, 0, 0, 0, 0, 0, 1, 0, 0, 0, 0, 0, 0, 1, 1, 0, 1, 0, 1, 1, 0, 0, 1, 0, 0, 0, 0, 0, 0, 1, 0, 0, 1, 1, 1, 1, 0, 0, 1, 0, 0, 1, 1, 0, 0, 0, 0, 1, 0, 0, 0, 1, 0, 0, 0, 1, 0, 1, 1, 0, 0, 1, 1, 0, 0, 0, 1, 0, 1, 1, 0, 0, 0, 1, 0, 0, 0, 0, 0, 1, 1, 1, 0, 0, 0, 0, 0, 1, 1, 1, 1, 0, 1, 0, 0, 1, 1, 1, 1, 1, 0, 0, 1, 1, 0, 0, 1, 0, 0]\n"
          ],
          "name": "stdout"
        }
      ]
    },
    {
      "cell_type": "markdown",
      "metadata": {
        "id": "iwznl47U0YDD",
        "colab_type": "text"
      },
      "source": [
        "Confussion matrix ile baktığımızda 0 ile encode ettiğimiz 85 değerin 3 ünü yanlış bilmiş 82 sini doğru bilmiş\n",
        "\n",
        "55 kötü huylu tümörün sadece birini yanlış bilmiş"
      ]
    },
    {
      "cell_type": "code",
      "metadata": {
        "id": "PE-jqP3hu3hy",
        "colab_type": "code",
        "outputId": "bc827ff0-b384-4205-d82e-e8985390756c",
        "colab": {
          "base_uri": "https://localhost:8080/",
          "height": 52
        }
      },
      "source": [
        "from sklearn.metrics import confusion_matrix\n",
        "cm = confusion_matrix(Y_test, Y_pred)\n",
        "print(cm)"
      ],
      "execution_count": 73,
      "outputs": [
        {
          "output_type": "stream",
          "text": [
            "[[82  3]\n",
            " [ 1 54]]\n"
          ],
          "name": "stdout"
        }
      ]
    },
    {
      "cell_type": "code",
      "metadata": {
        "id": "mJY2g-_WX67_",
        "colab_type": "code",
        "colab": {
          "base_uri": "https://localhost:8080/",
          "height": 35
        },
        "outputId": "aa1722de-7da3-49e6-cf38-729cc0dba7e1"
      },
      "source": [
        "import numpy as np\n",
        "a=np.array([[5,1,1,1,2,1,3,1,1]])\n",
        "Y_pred = classifier.predict(a)\n",
        "Y_pred = [ 1 if y>=0.5 else 0 for y in Y_pred]\n",
        "print(Y_pred)\n"
      ],
      "execution_count": 74,
      "outputs": [
        {
          "output_type": "stream",
          "text": [
            "[1]\n"
          ],
          "name": "stdout"
        }
      ]
    },
    {
      "cell_type": "markdown",
      "metadata": {
        "id": "LRC4mlYE0061",
        "colab_type": "text"
      },
      "source": [
        "# Faydalı olması dileğiyle"
      ]
    }
  ]
}