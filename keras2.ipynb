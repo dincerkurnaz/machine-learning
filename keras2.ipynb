{
  "nbformat": 4,
  "nbformat_minor": 0,
  "metadata": {
    "colab": {
      "name": "keras2.ipynb",
      "version": "0.3.2",
      "provenance": [],
      "collapsed_sections": [],
      "include_colab_link": true
    },
    "kernelspec": {
      "name": "python3",
      "display_name": "Python 3"
    }
  },
  "cells": [
    {
      "cell_type": "markdown",
      "metadata": {
        "id": "view-in-github",
        "colab_type": "text"
      },
      "source": [
        "<a href=\"https://colab.research.google.com/github/dincerkurnaz/machine-learning/blob/master/keras2.ipynb\" target=\"_parent\"><img src=\"https://colab.research.google.com/assets/colab-badge.svg\" alt=\"Open In Colab\"/></a>"
      ]
    },
    {
      "cell_type": "code",
      "metadata": {
        "id": "wR0ilyV1yeQa",
        "colab_type": "code",
        "outputId": "bfbe3b01-8d17-476b-ad98-8c6d899c96a7",
        "colab": {
          "base_uri": "https://localhost:8080/",
          "height": 34
        }
      },
      "source": [
        "import numpy as np\n",
        "import pandas as pd\n",
        "import keras\n",
        "\n",
        "from sklearn.preprocessing import Imputer\n",
        "\n",
        "from keras.models import Sequential\n",
        "from keras.layers import Dense, Dropout, Activation, Input\n",
        "from keras.optimizers import SGD\n"
      ],
      "execution_count": 1,
      "outputs": [
        {
          "output_type": "stream",
          "text": [
            "Using TensorFlow backend.\n"
          ],
          "name": "stderr"
        }
      ]
    },
    {
      "cell_type": "markdown",
      "metadata": {
        "id": "0sa2zSzR9wZr",
        "colab_type": "text"
      },
      "source": [
        "https://s3.amazonaws.com/assets.datacamp.com/blog_assets/Keras_Cheat_Sheet_Python.pdf\n"
      ]
    },
    {
      "cell_type": "code",
      "metadata": {
        "id": "nmQcJxBHynJ9",
        "colab_type": "code",
        "outputId": "8bbe119b-e9ff-4393-c1d9-c5f93c6eef2b",
        "colab": {
          "base_uri": "https://localhost:8080/",
          "height": 204
        }
      },
      "source": [
        "veri = pd.read_csv(\"https://archive.ics.uci.edu/ml/machine-learning-databases/breast-cancer-wisconsin/breast-cancer-wisconsin.data\")\n",
        "veri.head()"
      ],
      "execution_count": 2,
      "outputs": [
        {
          "output_type": "execute_result",
          "data": {
            "text/html": [
              "<div>\n",
              "<style scoped>\n",
              "    .dataframe tbody tr th:only-of-type {\n",
              "        vertical-align: middle;\n",
              "    }\n",
              "\n",
              "    .dataframe tbody tr th {\n",
              "        vertical-align: top;\n",
              "    }\n",
              "\n",
              "    .dataframe thead th {\n",
              "        text-align: right;\n",
              "    }\n",
              "</style>\n",
              "<table border=\"1\" class=\"dataframe\">\n",
              "  <thead>\n",
              "    <tr style=\"text-align: right;\">\n",
              "      <th></th>\n",
              "      <th>1000025</th>\n",
              "      <th>5</th>\n",
              "      <th>1</th>\n",
              "      <th>1.1</th>\n",
              "      <th>1.2</th>\n",
              "      <th>2</th>\n",
              "      <th>1.3</th>\n",
              "      <th>3</th>\n",
              "      <th>1.4</th>\n",
              "      <th>1.5</th>\n",
              "      <th>2.1</th>\n",
              "    </tr>\n",
              "  </thead>\n",
              "  <tbody>\n",
              "    <tr>\n",
              "      <th>0</th>\n",
              "      <td>1002945</td>\n",
              "      <td>5</td>\n",
              "      <td>4</td>\n",
              "      <td>4</td>\n",
              "      <td>5</td>\n",
              "      <td>7</td>\n",
              "      <td>10</td>\n",
              "      <td>3</td>\n",
              "      <td>2</td>\n",
              "      <td>1</td>\n",
              "      <td>2</td>\n",
              "    </tr>\n",
              "    <tr>\n",
              "      <th>1</th>\n",
              "      <td>1015425</td>\n",
              "      <td>3</td>\n",
              "      <td>1</td>\n",
              "      <td>1</td>\n",
              "      <td>1</td>\n",
              "      <td>2</td>\n",
              "      <td>2</td>\n",
              "      <td>3</td>\n",
              "      <td>1</td>\n",
              "      <td>1</td>\n",
              "      <td>2</td>\n",
              "    </tr>\n",
              "    <tr>\n",
              "      <th>2</th>\n",
              "      <td>1016277</td>\n",
              "      <td>6</td>\n",
              "      <td>8</td>\n",
              "      <td>8</td>\n",
              "      <td>1</td>\n",
              "      <td>3</td>\n",
              "      <td>4</td>\n",
              "      <td>3</td>\n",
              "      <td>7</td>\n",
              "      <td>1</td>\n",
              "      <td>2</td>\n",
              "    </tr>\n",
              "    <tr>\n",
              "      <th>3</th>\n",
              "      <td>1017023</td>\n",
              "      <td>4</td>\n",
              "      <td>1</td>\n",
              "      <td>1</td>\n",
              "      <td>3</td>\n",
              "      <td>2</td>\n",
              "      <td>1</td>\n",
              "      <td>3</td>\n",
              "      <td>1</td>\n",
              "      <td>1</td>\n",
              "      <td>2</td>\n",
              "    </tr>\n",
              "    <tr>\n",
              "      <th>4</th>\n",
              "      <td>1017122</td>\n",
              "      <td>8</td>\n",
              "      <td>10</td>\n",
              "      <td>10</td>\n",
              "      <td>8</td>\n",
              "      <td>7</td>\n",
              "      <td>10</td>\n",
              "      <td>9</td>\n",
              "      <td>7</td>\n",
              "      <td>1</td>\n",
              "      <td>4</td>\n",
              "    </tr>\n",
              "  </tbody>\n",
              "</table>\n",
              "</div>"
            ],
            "text/plain": [
              "   1000025  5   1  1.1  1.2  2 1.3  3  1.4  1.5  2.1\n",
              "0  1002945  5   4    4    5  7  10  3    2    1    2\n",
              "1  1015425  3   1    1    1  2   2  3    1    1    2\n",
              "2  1016277  6   8    8    1  3   4  3    7    1    2\n",
              "3  1017023  4   1    1    3  2   1  3    1    1    2\n",
              "4  1017122  8  10   10    8  7  10  9    7    1    4"
            ]
          },
          "metadata": {
            "tags": []
          },
          "execution_count": 2
        }
      ]
    },
    {
      "cell_type": "code",
      "metadata": {
        "id": "XTWN-0SE8eQs",
        "colab_type": "code",
        "outputId": "0032dfdf-15a2-4cec-b518-be2223eb85ce",
        "colab": {
          "base_uri": "https://localhost:8080/",
          "height": 71
        }
      },
      "source": [
        "veri.replace('?',-99999,inplace=True) # soru işareti olan alanların hepsini -9999 olarak desgistiriyoruz.\n",
        "veriyeni = veri.drop(['1000025'],axis=1)# id olan ilk sutunun tamamını siliyoruz.\n",
        "\n",
        "imp = Imputer(missing_values=-99999, strategy=\"mean\",axis=0)# -9999 olanları bulup diger alanları toplayıp satırın ortalamasını alıyor. \n",
        "\n",
        "veriyeni = imp.fit_transform(veriyeni) \n"
      ],
      "execution_count": 3,
      "outputs": [
        {
          "output_type": "stream",
          "text": [
            "/usr/local/lib/python3.6/dist-packages/sklearn/utils/deprecation.py:66: DeprecationWarning: Class Imputer is deprecated; Imputer was deprecated in version 0.20 and will be removed in 0.22. Import impute.SimpleImputer from sklearn instead.\n",
            "  warnings.warn(msg, category=DeprecationWarning)\n"
          ],
          "name": "stderr"
        }
      ]
    },
    {
      "cell_type": "code",
      "metadata": {
        "id": "xXslzR30O2RL",
        "colab_type": "code",
        "colab": {}
      },
      "source": [
        "giris = veriyeni[:,0:8] #ozellikler\n",
        "cikis = veriyeni[:,9] # class"
      ],
      "execution_count": 0,
      "outputs": []
    },
    {
      "cell_type": "code",
      "metadata": {
        "id": "zpI3ALm6P8rh",
        "colab_type": "code",
        "outputId": "82baee72-baf9-4e63-a0e2-74778fc026ba",
        "colab": {
          "base_uri": "https://localhost:8080/",
          "height": 734
        }
      },
      "source": [
        "model = Sequential() #\n",
        "\n",
        "model.add(Dense(128,input_dim=8))\n",
        "model.add(Activation('relu'))\n",
        "model.add(Dropout(0.5)) # noronların yarısını rastgele drop edecek\n",
        "model.add(Dense(64))\n",
        "model.add(Activation('relu'))\n",
        "model.add(Dropout(0.5)) # noronların yarısını rastgele drop edecek\n",
        "model.add(Dense(128))\n",
        "model.add(Activation('softmax'))\n",
        "\n",
        "model.compile(optimizer='adam',loss='sparse_categorical_crossentropy',metrics=['accuracy']) \n",
        "\n",
        "from keras.callbacks import EarlyStopping\n",
        "early_stopping_monitor = EarlyStopping(patience=2)\n",
        "\n",
        "\n",
        "model.fit(giris,cikis,epochs=10,batch_size=32,validation_split=0.20,callbacks=[early_stopping_monitor])\n"
      ],
      "execution_count": 5,
      "outputs": [
        {
          "output_type": "stream",
          "text": [
            "WARNING: Logging before flag parsing goes to stderr.\n",
            "W0620 13:09:24.026909 140337067489152 deprecation_wrapper.py:119] From /usr/local/lib/python3.6/dist-packages/keras/backend/tensorflow_backend.py:74: The name tf.get_default_graph is deprecated. Please use tf.compat.v1.get_default_graph instead.\n",
            "\n",
            "W0620 13:09:24.078102 140337067489152 deprecation_wrapper.py:119] From /usr/local/lib/python3.6/dist-packages/keras/backend/tensorflow_backend.py:517: The name tf.placeholder is deprecated. Please use tf.compat.v1.placeholder instead.\n",
            "\n",
            "W0620 13:09:24.085834 140337067489152 deprecation_wrapper.py:119] From /usr/local/lib/python3.6/dist-packages/keras/backend/tensorflow_backend.py:4138: The name tf.random_uniform is deprecated. Please use tf.random.uniform instead.\n",
            "\n",
            "W0620 13:09:24.109702 140337067489152 deprecation_wrapper.py:119] From /usr/local/lib/python3.6/dist-packages/keras/backend/tensorflow_backend.py:133: The name tf.placeholder_with_default is deprecated. Please use tf.compat.v1.placeholder_with_default instead.\n",
            "\n",
            "W0620 13:09:24.240205 140337067489152 deprecation.py:506] From /usr/local/lib/python3.6/dist-packages/keras/backend/tensorflow_backend.py:3445: calling dropout (from tensorflow.python.ops.nn_ops) with keep_prob is deprecated and will be removed in a future version.\n",
            "Instructions for updating:\n",
            "Please use `rate` instead of `keep_prob`. Rate should be set to `rate = 1 - keep_prob`.\n",
            "W0620 13:09:24.308515 140337067489152 deprecation_wrapper.py:119] From /usr/local/lib/python3.6/dist-packages/keras/optimizers.py:790: The name tf.train.Optimizer is deprecated. Please use tf.compat.v1.train.Optimizer instead.\n",
            "\n",
            "W0620 13:09:24.331090 140337067489152 deprecation_wrapper.py:119] From /usr/local/lib/python3.6/dist-packages/keras/backend/tensorflow_backend.py:3341: The name tf.log is deprecated. Please use tf.math.log instead.\n",
            "\n",
            "W0620 13:09:24.463626 140337067489152 deprecation.py:323] From /usr/local/lib/python3.6/dist-packages/tensorflow/python/ops/math_grad.py:1250: add_dispatch_support.<locals>.wrapper (from tensorflow.python.ops.array_ops) is deprecated and will be removed in a future version.\n",
            "Instructions for updating:\n",
            "Use tf.where in 2.0, which has the same broadcast rule as np.where\n"
          ],
          "name": "stderr"
        },
        {
          "output_type": "stream",
          "text": [
            "Train on 558 samples, validate on 140 samples\n",
            "Epoch 1/10\n",
            "558/558 [==============================] - 1s 2ms/step - loss: 3.8973 - acc: 0.2043 - val_loss: 2.9706 - val_acc: 0.2500\n",
            "Epoch 2/10\n",
            "558/558 [==============================] - 0s 74us/step - loss: 2.0993 - acc: 0.4731 - val_loss: 1.3426 - val_acc: 0.6286\n",
            "Epoch 3/10\n",
            "558/558 [==============================] - 0s 63us/step - loss: 1.1227 - acc: 0.6470 - val_loss: 0.5016 - val_acc: 0.9071\n",
            "Epoch 4/10\n",
            "558/558 [==============================] - 0s 63us/step - loss: 0.7747 - acc: 0.7025 - val_loss: 0.3784 - val_acc: 0.9214\n",
            "Epoch 5/10\n",
            "558/558 [==============================] - 0s 66us/step - loss: 0.6628 - acc: 0.7366 - val_loss: 0.3288 - val_acc: 0.9286\n",
            "Epoch 6/10\n",
            "558/558 [==============================] - 0s 64us/step - loss: 0.6532 - acc: 0.7599 - val_loss: 0.3281 - val_acc: 0.9500\n",
            "Epoch 7/10\n",
            "558/558 [==============================] - 0s 68us/step - loss: 0.5661 - acc: 0.8029 - val_loss: 0.2854 - val_acc: 0.9500\n",
            "Epoch 8/10\n",
            "558/558 [==============================] - 0s 67us/step - loss: 0.5212 - acc: 0.8154 - val_loss: 0.2890 - val_acc: 0.9500\n",
            "Epoch 9/10\n",
            "558/558 [==============================] - 0s 64us/step - loss: 0.5050 - acc: 0.8082 - val_loss: 0.2414 - val_acc: 0.9643\n",
            "Epoch 10/10\n",
            "558/558 [==============================] - 0s 66us/step - loss: 0.4550 - acc: 0.8351 - val_loss: 0.2296 - val_acc: 0.9571\n"
          ],
          "name": "stdout"
        },
        {
          "output_type": "execute_result",
          "data": {
            "text/plain": [
              "<keras.callbacks.History at 0x7fa28489fc88>"
            ]
          },
          "metadata": {
            "tags": []
          },
          "execution_count": 5
        }
      ]
    },
    {
      "cell_type": "code",
      "metadata": {
        "id": "0rx7C1U2R8yJ",
        "colab_type": "code",
        "outputId": "f9af2ccc-429a-4df0-ba45-18995e8cbfeb",
        "colab": {
          "base_uri": "https://localhost:8080/",
          "height": 51
        }
      },
      "source": [
        "tahmin1 = np.array([5,10,10,5,4,5,4,4]).reshape(1,8) #soru soralim\n",
        "\n",
        "tahmin2 = np.array([5,10,3,1,8,1,9,1]).reshape(1,8) #soru soralim\n",
        "\n",
        "print(model.predict_classes(tahmin1)) # tahin alalım\n",
        "print(model.predict_classes(tahmin2))\n",
        "\n"
      ],
      "execution_count": 6,
      "outputs": [
        {
          "output_type": "stream",
          "text": [
            "[4]\n",
            "[2]\n"
          ],
          "name": "stdout"
        }
      ]
    },
    {
      "cell_type": "code",
      "metadata": {
        "id": "cLu9g02gUmGv",
        "colab_type": "code",
        "colab": {}
      },
      "source": [
        "from keras.utils.vis_utils import plot_model, model_to_dot\n",
        "plot_model(model, to_file='model_plot.png', show_shapes=True, show_layer_names=True)\n"
      ],
      "execution_count": 0,
      "outputs": []
    },
    {
      "cell_type": "code",
      "metadata": {
        "id": "HUSZPIUWUsHP",
        "colab_type": "code",
        "outputId": "ef92aaf5-a095-47a6-894b-03e43b4c18ae",
        "colab": {
          "base_uri": "https://localhost:8080/",
          "height": 860
        }
      },
      "source": [
        "from IPython.display import SVG\n",
        "SVG(model_to_dot(model).create(prog='dot', format='svg'))"
      ],
      "execution_count": 8,
      "outputs": [
        {
          "output_type": "execute_result",
          "data": {
            "text/plain": [
              "<IPython.core.display.SVG object>"
            ],
            "image/svg+xml": "<svg height=\"629pt\" viewBox=\"0.00 0.00 162.00 629.00\" width=\"162pt\" xmlns=\"http://www.w3.org/2000/svg\" xmlns:xlink=\"http://www.w3.org/1999/xlink\">\n<g class=\"graph\" id=\"graph0\" transform=\"scale(1 1) rotate(0) translate(4 625)\">\n<title>G</title>\n<polygon fill=\"#ffffff\" points=\"-4,4 -4,-625 158,-625 158,4 -4,4\" stroke=\"transparent\"/>\n<!-- 140335994600136 -->\n<g class=\"node\" id=\"node1\">\n<title>140335994600136</title>\n<polygon fill=\"none\" points=\"23.5,-511.5 23.5,-547.5 130.5,-547.5 130.5,-511.5 23.5,-511.5\" stroke=\"#000000\"/>\n<text fill=\"#000000\" font-family=\"Times,serif\" font-size=\"14.00\" text-anchor=\"middle\" x=\"77\" y=\"-525.8\">dense_1: Dense</text>\n</g>\n<!-- 140335994600864 -->\n<g class=\"node\" id=\"node2\">\n<title>140335994600864</title>\n<polygon fill=\"none\" points=\"0,-438.5 0,-474.5 154,-474.5 154,-438.5 0,-438.5\" stroke=\"#000000\"/>\n<text fill=\"#000000\" font-family=\"Times,serif\" font-size=\"14.00\" text-anchor=\"middle\" x=\"77\" y=\"-452.8\">activation_1: Activation</text>\n</g>\n<!-- 140335994600136&#45;&gt;140335994600864 -->\n<g class=\"edge\" id=\"edge2\">\n<title>140335994600136-&gt;140335994600864</title>\n<path d=\"M77,-511.4551C77,-503.3828 77,-493.6764 77,-484.6817\" fill=\"none\" stroke=\"#000000\"/>\n<polygon fill=\"#000000\" points=\"80.5001,-484.5903 77,-474.5904 73.5001,-484.5904 80.5001,-484.5903\" stroke=\"#000000\"/>\n</g>\n<!-- 140335994601312 -->\n<g class=\"node\" id=\"node3\">\n<title>140335994601312</title>\n<polygon fill=\"none\" points=\"10,-365.5 10,-401.5 144,-401.5 144,-365.5 10,-365.5\" stroke=\"#000000\"/>\n<text fill=\"#000000\" font-family=\"Times,serif\" font-size=\"14.00\" text-anchor=\"middle\" x=\"77\" y=\"-379.8\">dropout_1: Dropout</text>\n</g>\n<!-- 140335994600864&#45;&gt;140335994601312 -->\n<g class=\"edge\" id=\"edge3\">\n<title>140335994600864-&gt;140335994601312</title>\n<path d=\"M77,-438.4551C77,-430.3828 77,-420.6764 77,-411.6817\" fill=\"none\" stroke=\"#000000\"/>\n<polygon fill=\"#000000\" points=\"80.5001,-411.5903 77,-401.5904 73.5001,-411.5904 80.5001,-411.5903\" stroke=\"#000000\"/>\n</g>\n<!-- 140335994601200 -->\n<g class=\"node\" id=\"node4\">\n<title>140335994601200</title>\n<polygon fill=\"none\" points=\"23.5,-292.5 23.5,-328.5 130.5,-328.5 130.5,-292.5 23.5,-292.5\" stroke=\"#000000\"/>\n<text fill=\"#000000\" font-family=\"Times,serif\" font-size=\"14.00\" text-anchor=\"middle\" x=\"77\" y=\"-306.8\">dense_2: Dense</text>\n</g>\n<!-- 140335994601312&#45;&gt;140335994601200 -->\n<g class=\"edge\" id=\"edge4\">\n<title>140335994601312-&gt;140335994601200</title>\n<path d=\"M77,-365.4551C77,-357.3828 77,-347.6764 77,-338.6817\" fill=\"none\" stroke=\"#000000\"/>\n<polygon fill=\"#000000\" points=\"80.5001,-338.5903 77,-328.5904 73.5001,-338.5904 80.5001,-338.5903\" stroke=\"#000000\"/>\n</g>\n<!-- 140335994601088 -->\n<g class=\"node\" id=\"node5\">\n<title>140335994601088</title>\n<polygon fill=\"none\" points=\"0,-219.5 0,-255.5 154,-255.5 154,-219.5 0,-219.5\" stroke=\"#000000\"/>\n<text fill=\"#000000\" font-family=\"Times,serif\" font-size=\"14.00\" text-anchor=\"middle\" x=\"77\" y=\"-233.8\">activation_2: Activation</text>\n</g>\n<!-- 140335994601200&#45;&gt;140335994601088 -->\n<g class=\"edge\" id=\"edge5\">\n<title>140335994601200-&gt;140335994601088</title>\n<path d=\"M77,-292.4551C77,-284.3828 77,-274.6764 77,-265.6817\" fill=\"none\" stroke=\"#000000\"/>\n<polygon fill=\"#000000\" points=\"80.5001,-265.5903 77,-255.5904 73.5001,-265.5904 80.5001,-265.5903\" stroke=\"#000000\"/>\n</g>\n<!-- 140335985868024 -->\n<g class=\"node\" id=\"node6\">\n<title>140335985868024</title>\n<polygon fill=\"none\" points=\"10,-146.5 10,-182.5 144,-182.5 144,-146.5 10,-146.5\" stroke=\"#000000\"/>\n<text fill=\"#000000\" font-family=\"Times,serif\" font-size=\"14.00\" text-anchor=\"middle\" x=\"77\" y=\"-160.8\">dropout_2: Dropout</text>\n</g>\n<!-- 140335994601088&#45;&gt;140335985868024 -->\n<g class=\"edge\" id=\"edge6\">\n<title>140335994601088-&gt;140335985868024</title>\n<path d=\"M77,-219.4551C77,-211.3828 77,-201.6764 77,-192.6817\" fill=\"none\" stroke=\"#000000\"/>\n<polygon fill=\"#000000\" points=\"80.5001,-192.5903 77,-182.5904 73.5001,-192.5904 80.5001,-192.5903\" stroke=\"#000000\"/>\n</g>\n<!-- 140335994601032 -->\n<g class=\"node\" id=\"node7\">\n<title>140335994601032</title>\n<polygon fill=\"none\" points=\"23.5,-73.5 23.5,-109.5 130.5,-109.5 130.5,-73.5 23.5,-73.5\" stroke=\"#000000\"/>\n<text fill=\"#000000\" font-family=\"Times,serif\" font-size=\"14.00\" text-anchor=\"middle\" x=\"77\" y=\"-87.8\">dense_3: Dense</text>\n</g>\n<!-- 140335985868024&#45;&gt;140335994601032 -->\n<g class=\"edge\" id=\"edge7\">\n<title>140335985868024-&gt;140335994601032</title>\n<path d=\"M77,-146.4551C77,-138.3828 77,-128.6764 77,-119.6817\" fill=\"none\" stroke=\"#000000\"/>\n<polygon fill=\"#000000\" points=\"80.5001,-119.5903 77,-109.5904 73.5001,-119.5904 80.5001,-119.5903\" stroke=\"#000000\"/>\n</g>\n<!-- 140335985867352 -->\n<g class=\"node\" id=\"node8\">\n<title>140335985867352</title>\n<polygon fill=\"none\" points=\"0,-.5 0,-36.5 154,-36.5 154,-.5 0,-.5\" stroke=\"#000000\"/>\n<text fill=\"#000000\" font-family=\"Times,serif\" font-size=\"14.00\" text-anchor=\"middle\" x=\"77\" y=\"-14.8\">activation_3: Activation</text>\n</g>\n<!-- 140335994601032&#45;&gt;140335985867352 -->\n<g class=\"edge\" id=\"edge8\">\n<title>140335994601032-&gt;140335985867352</title>\n<path d=\"M77,-73.4551C77,-65.3828 77,-55.6764 77,-46.6817\" fill=\"none\" stroke=\"#000000\"/>\n<polygon fill=\"#000000\" points=\"80.5001,-46.5903 77,-36.5904 73.5001,-46.5904 80.5001,-46.5903\" stroke=\"#000000\"/>\n</g>\n<!-- 140335994600584 -->\n<g class=\"node\" id=\"node9\">\n<title>140335994600584</title>\n<polygon fill=\"none\" points=\"12.5,-584.5 12.5,-620.5 141.5,-620.5 141.5,-584.5 12.5,-584.5\" stroke=\"#000000\"/>\n<text fill=\"#000000\" font-family=\"Times,serif\" font-size=\"14.00\" text-anchor=\"middle\" x=\"77\" y=\"-598.8\">140335994600584</text>\n</g>\n<!-- 140335994600584&#45;&gt;140335994600136 -->\n<g class=\"edge\" id=\"edge1\">\n<title>140335994600584-&gt;140335994600136</title>\n<path d=\"M77,-584.4551C77,-576.3828 77,-566.6764 77,-557.6817\" fill=\"none\" stroke=\"#000000\"/>\n<polygon fill=\"#000000\" points=\"80.5001,-557.5903 77,-547.5904 73.5001,-557.5904 80.5001,-557.5903\" stroke=\"#000000\"/>\n</g>\n</g>\n</svg>"
          },
          "metadata": {
            "tags": []
          },
          "execution_count": 8
        }
      ]
    },
    {
      "cell_type": "code",
      "metadata": {
        "id": "1mwi8-grU5Jw",
        "colab_type": "code",
        "outputId": "8aca779e-5eb0-4194-fc61-cda7ee00ebf3",
        "colab": {
          "base_uri": "https://localhost:8080/",
          "height": 1751
        }
      },
      "source": [
        "print(model.summary())\n",
        "model.get_config() \n"
      ],
      "execution_count": 9,
      "outputs": [
        {
          "output_type": "stream",
          "text": [
            "_________________________________________________________________\n",
            "Layer (type)                 Output Shape              Param #   \n",
            "=================================================================\n",
            "dense_1 (Dense)              (None, 128)               1152      \n",
            "_________________________________________________________________\n",
            "activation_1 (Activation)    (None, 128)               0         \n",
            "_________________________________________________________________\n",
            "dropout_1 (Dropout)          (None, 128)               0         \n",
            "_________________________________________________________________\n",
            "dense_2 (Dense)              (None, 64)                8256      \n",
            "_________________________________________________________________\n",
            "activation_2 (Activation)    (None, 64)                0         \n",
            "_________________________________________________________________\n",
            "dropout_2 (Dropout)          (None, 64)                0         \n",
            "_________________________________________________________________\n",
            "dense_3 (Dense)              (None, 128)               8320      \n",
            "_________________________________________________________________\n",
            "activation_3 (Activation)    (None, 128)               0         \n",
            "=================================================================\n",
            "Total params: 17,728\n",
            "Trainable params: 17,728\n",
            "Non-trainable params: 0\n",
            "_________________________________________________________________\n",
            "None\n"
          ],
          "name": "stdout"
        },
        {
          "output_type": "execute_result",
          "data": {
            "text/plain": [
              "{'layers': [{'class_name': 'Dense',\n",
              "   'config': {'activation': 'linear',\n",
              "    'activity_regularizer': None,\n",
              "    'batch_input_shape': (None, 8),\n",
              "    'bias_constraint': None,\n",
              "    'bias_initializer': {'class_name': 'Zeros', 'config': {}},\n",
              "    'bias_regularizer': None,\n",
              "    'dtype': 'float32',\n",
              "    'kernel_constraint': None,\n",
              "    'kernel_initializer': {'class_name': 'VarianceScaling',\n",
              "     'config': {'distribution': 'uniform',\n",
              "      'mode': 'fan_avg',\n",
              "      'scale': 1.0,\n",
              "      'seed': None}},\n",
              "    'kernel_regularizer': None,\n",
              "    'name': 'dense_1',\n",
              "    'trainable': True,\n",
              "    'units': 128,\n",
              "    'use_bias': True}},\n",
              "  {'class_name': 'Activation',\n",
              "   'config': {'activation': 'relu',\n",
              "    'name': 'activation_1',\n",
              "    'trainable': True}},\n",
              "  {'class_name': 'Dropout',\n",
              "   'config': {'name': 'dropout_1',\n",
              "    'noise_shape': None,\n",
              "    'rate': 0.5,\n",
              "    'seed': None,\n",
              "    'trainable': True}},\n",
              "  {'class_name': 'Dense',\n",
              "   'config': {'activation': 'linear',\n",
              "    'activity_regularizer': None,\n",
              "    'bias_constraint': None,\n",
              "    'bias_initializer': {'class_name': 'Zeros', 'config': {}},\n",
              "    'bias_regularizer': None,\n",
              "    'kernel_constraint': None,\n",
              "    'kernel_initializer': {'class_name': 'VarianceScaling',\n",
              "     'config': {'distribution': 'uniform',\n",
              "      'mode': 'fan_avg',\n",
              "      'scale': 1.0,\n",
              "      'seed': None}},\n",
              "    'kernel_regularizer': None,\n",
              "    'name': 'dense_2',\n",
              "    'trainable': True,\n",
              "    'units': 64,\n",
              "    'use_bias': True}},\n",
              "  {'class_name': 'Activation',\n",
              "   'config': {'activation': 'relu',\n",
              "    'name': 'activation_2',\n",
              "    'trainable': True}},\n",
              "  {'class_name': 'Dropout',\n",
              "   'config': {'name': 'dropout_2',\n",
              "    'noise_shape': None,\n",
              "    'rate': 0.5,\n",
              "    'seed': None,\n",
              "    'trainable': True}},\n",
              "  {'class_name': 'Dense',\n",
              "   'config': {'activation': 'linear',\n",
              "    'activity_regularizer': None,\n",
              "    'bias_constraint': None,\n",
              "    'bias_initializer': {'class_name': 'Zeros', 'config': {}},\n",
              "    'bias_regularizer': None,\n",
              "    'kernel_constraint': None,\n",
              "    'kernel_initializer': {'class_name': 'VarianceScaling',\n",
              "     'config': {'distribution': 'uniform',\n",
              "      'mode': 'fan_avg',\n",
              "      'scale': 1.0,\n",
              "      'seed': None}},\n",
              "    'kernel_regularizer': None,\n",
              "    'name': 'dense_3',\n",
              "    'trainable': True,\n",
              "    'units': 128,\n",
              "    'use_bias': True}},\n",
              "  {'class_name': 'Activation',\n",
              "   'config': {'activation': 'softmax',\n",
              "    'name': 'activation_3',\n",
              "    'trainable': True}}],\n",
              " 'name': 'sequential_1'}"
            ]
          },
          "metadata": {
            "tags": []
          },
          "execution_count": 9
        }
      ]
    },
    {
      "cell_type": "code",
      "metadata": {
        "id": "MuHGDK9Q9OH4",
        "colab_type": "code",
        "colab": {}
      },
      "source": [
        "from keras.models import load_model \n",
        "model.save('model_file.h5') #modeli kaydedelim\n",
        "my_model = load_model('model_file.h5') #modeli yukleyelim."
      ],
      "execution_count": 0,
      "outputs": []
    },
    {
      "cell_type": "code",
      "metadata": {
        "id": "9o9hDw4gAAhY",
        "colab_type": "code",
        "outputId": "56c83b13-6271-43a9-ac79-669f830e1d9d",
        "colab": {
          "base_uri": "https://localhost:8080/",
          "height": 34
        }
      },
      "source": [
        "tahmin3 = np.array([5,10,3,1,8,1,9,1]).reshape(1,8) #soru soralim\n",
        "\n",
        "print(my_model.predict_classes(tahmin3)) # tahin alalım"
      ],
      "execution_count": 11,
      "outputs": [
        {
          "output_type": "stream",
          "text": [
            "[2]\n"
          ],
          "name": "stdout"
        }
      ]
    },
    {
      "cell_type": "code",
      "metadata": {
        "id": "7XZL-vsp_J5v",
        "colab_type": "code",
        "colab": {
          "base_uri": "https://localhost:8080/",
          "height": 153
        },
        "outputId": "78d2d58c-6c53-4a07-9607-8c6aaf62526e"
      },
      "source": [
        "!pip3 install ann_visualizer\n",
        "\n",
        "from ann_visualizer.visualize import ann_viz;\n",
        "ann_viz(model, title=\"My graph\")\n"
      ],
      "execution_count": 12,
      "outputs": [
        {
          "output_type": "stream",
          "text": [
            "Collecting ann_visualizer\n",
            "  Downloading https://files.pythonhosted.org/packages/db/51/157be500337fba347e32711aaf9f11c1ba9e1162f486a1d708b4ae594ea4/ann_visualizer-2.5.tar.gz\n",
            "Building wheels for collected packages: ann-visualizer\n",
            "  Building wheel for ann-visualizer (setup.py) ... \u001b[?25l\u001b[?25hdone\n",
            "  Stored in directory: /root/.cache/pip/wheels/b6/b4/4e/d92f50c9c4f004cf315a0e0fcd455486bd799c50fe80cf1f5d\n",
            "Successfully built ann-visualizer\n",
            "Installing collected packages: ann-visualizer\n",
            "Successfully installed ann-visualizer-2.5\n"
          ],
          "name": "stdout"
        }
      ]
    }
  ]
}